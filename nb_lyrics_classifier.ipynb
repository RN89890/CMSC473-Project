{
 "cells": [
  {
   "cell_type": "code",
   "execution_count": 10,
   "metadata": {},
   "outputs": [
    {
     "name": "stdout",
     "output_type": "stream",
     "text": [
      "<bound method NDFrame.head of                            title         artist  \\\n",
      "421    will you love me tomorrow  the shirelles   \n",
      "741      compulsory resurrection   abysmal dawn   \n",
      "1793       going out to get you         genesis   \n",
      "2231                   two moons       amorphis   \n",
      "2207               my empty room    queensryche   \n",
      "...                          ...            ...   \n",
      "373                  never never   brick & lace   \n",
      "873               vision of love   mariah carey   \n",
      "953                       damien            dmx   \n",
      "1663  house of smoke and mirrors   matthew good   \n",
      "2309               body snatcher     billy idol   \n",
      "\n",
      "                                                 lyrics  genre  \n",
      "421   tonight mine completely give love sweetly toni...    pop  \n",
      "741   dna reconstructed laws nature obstructed morta...   rock  \n",
      "1793  pacify violence guarantee pain leave ugly forc...   rock  \n",
      "2231  spring came one day clouds front moon tore shr...  metal  \n",
      "2207  empty room today sit chalk outline upon wall r...  metal  \n",
      "...                                                 ...    ...  \n",
      "373   lives fairy tale somewhere far us find forgott...    rnb  \n",
      "873   hooo yeah treated kind sweet destiny carried d...    rnb  \n",
      "953   intro: uh defjam uh ruffryders nigga tp creep ...    rap  \n",
      "1663  theres house theres doorway locked lights anyw...   rock  \n",
      "2309   full moon glow steals light headless horsemen...   rock  \n",
      "\n",
      "[926 rows x 4 columns]>\n"
     ]
    }
   ],
   "source": [
    "import pandas as pd\n",
    "from sklearn.model_selection import train_test_split\n",
    "\n",
    "lyrics_df = pd.read_csv('new_output.csv')\n",
    "lyrics_df = lyrics_df.dropna()\n",
    "\n",
    "train, test = train_test_split(lyrics_df, test_size=0.2)\n",
    "test = test[['title', 'artist', 'lyrics']]\n",
    "\n",
    "print (train.head)"
   ]
  },
  {
   "cell_type": "code",
   "execution_count": 28,
   "metadata": {},
   "outputs": [
    {
     "data": {
      "text/plain": [
       "0.0004638176741817256"
      ]
     },
     "execution_count": 28,
     "metadata": {},
     "output_type": "execute_result"
    }
   ],
   "source": [
    "# my resource for the creation of an ngram model from the lyrics: \n",
    "# https://www.kaggle.com/alvations/n-gram-language-model-with-nltk\n",
    "from nltk import word_tokenize\n",
    "from nltk.lm.preprocessing import padded_everygram_pipeline\n",
    "from nltk.lm import MLE\n",
    "\n",
    "#tokenize lyrics\n",
    "tokenized_lyrics = [list(word_tokenize(lyrics)) for lyrics in train[\"lyrics\"]]\n",
    "\n",
    "#form lyrics into every ngram up to n, with <BOS> and <EOS> padding\n",
    "n = 3\n",
    "ngrams, padded_sents = padded_everygram_pipeline(n, tokenized_lyrics)\n",
    "\n",
    "#plug ngrams into maximum likelihood model\n",
    "model = MLE(n)\n",
    "model.fit(ngrams, padded_sents)\n"
   ]
  },
  {
   "cell_type": "code",
   "execution_count": null,
   "metadata": {},
   "outputs": [],
   "source": []
  }
 ],
 "metadata": {
  "kernelspec": {
   "display_name": "Python 3",
   "language": "python",
   "name": "python3"
  },
  "language_info": {
   "codemirror_mode": {
    "name": "ipython",
    "version": 3
   },
   "file_extension": ".py",
   "mimetype": "text/x-python",
   "name": "python",
   "nbconvert_exporter": "python",
   "pygments_lexer": "ipython3",
   "version": "3.7.4"
  },
  "varInspector": {
   "cols": {
    "lenName": 16,
    "lenType": 16,
    "lenVar": 40
   },
   "kernels_config": {
    "python": {
     "delete_cmd_postfix": "",
     "delete_cmd_prefix": "del ",
     "library": "var_list.py",
     "varRefreshCmd": "print(var_dic_list())"
    },
    "r": {
     "delete_cmd_postfix": ") ",
     "delete_cmd_prefix": "rm(",
     "library": "var_list.r",
     "varRefreshCmd": "cat(var_dic_list()) "
    }
   },
   "types_to_exclude": [
    "module",
    "function",
    "builtin_function_or_method",
    "instance",
    "_Feature"
   ],
   "window_display": false
  }
 },
 "nbformat": 4,
 "nbformat_minor": 2
}
