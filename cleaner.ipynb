{
 "cells": [
  {
   "cell_type": "code",
   "execution_count": 21,
   "metadata": {},
   "outputs": [],
   "source": [
    "# Need to install unidecode: pip install unidecode\n",
    "# I had to download nltk stopwords as a line of python code before I could use them\n",
    "\n",
    "import csv\n",
    "import re\n",
    "import nltk\n",
    "# I had to download nltk stuff as a line of python code before I could use them:\n",
    "# nltk.download('stopwords')\n",
    "# nltk.download('punkt')\n",
    "from nltk.corpus import stopwords\n",
    "from nltk.tokenize import word_tokenize \n",
    "from unidecode import unidecode\n",
    "\n",
    "def clean(x):\n",
    "    # Convert to a lowercase string and normalize characters.\n",
    "    # https://stackoverflow.com/questions/517923/what-is-the-best-way-to-remove-accents-normalize-in-a-python-unicode-string\n",
    "    result = unidecode(str(x).lower())\n",
    "\n",
    "    # Remove single quotes, double quotes, periods, commas, question marks\n",
    "    # exclamation points, apostrophe.\n",
    "    result = re.sub(r\"[\\'\\\"\\.\\,\\-\\?\\!\\`]\", \"\", result)\n",
    "\n",
    "    # Remove string surrounded by parenthesis, brackets, or braces.\n",
    "    result = re.sub(r\"\\([^)]*\\)\", \" \", result)\n",
    "    result = re.sub(r\"\\[[^]]*\\]\", \" \", result)\n",
    "    result = re.sub(r\"\\{[^}]*\\}\", \" \", result)\n",
    "\n",
    "    # Replace any whitespace characters with a single space.\n",
    "    result = re.sub(r\"(\\s)+\", \" \", result)\n",
    "\n",
    "    return result\n",
    "\n",
    "with open(\"combined_output_Nov22.csv\", encoding=\"utf-8\") as file:\n",
    "    # Our input CSV file to clean.\n",
    "    reader = csv.DictReader(file)\n",
    "\n",
    "    # Our output CSV file to write to.\n",
    "    OutputFile = open(\"new_output.csv\", \"w+\")\n",
    "    fields = [\"title\", \"artist\", \"lyrics\", \"genre\"]\n",
    "    writer = csv.DictWriter(OutputFile, fieldnames=fields)\n",
    "\n",
    "    # First write the column names to file.\n",
    "    writer.writeheader()\n",
    "\n",
    "    # Loop through each row.\n",
    "    for row in reader:\n",
    "        \n",
    "         #set stopwords per language from nltk stopwords corpus\n",
    "        if (row[\"majority_genre\"] == 'Latin'):\n",
    "            stop_words = set(stopwords.words('spanish'))\n",
    "        else:\n",
    "            stop_words = set(stopwords.words('english'))\n",
    "        \n",
    "        #tokenize for easy stopwords removal\n",
    "        words = row[\"lyrics\"].split()\n",
    "        lyrics_no_stopwords = \"\"\n",
    "        \n",
    "        #convert back to single lyrics string\n",
    "        for word in words:\n",
    "            if word.lower() not in stop_words:\n",
    "                lyrics_no_stopwords += word + \" \"\n",
    "        \n",
    "        NewRow = {\n",
    "            \"title\":        clean(row[\"song\"]),\n",
    "            \"artist\":       clean(row[\"artist\"]),\n",
    "            \"lyrics\":       clean(lyrics_no_stopwords),\n",
    "            \"genre\":        clean(row[\"majority_genre\"])\n",
    "        }\n",
    "    \n",
    "        # Send to output file.\n",
    "        writer.writerow(NewRow)\n",
    "\n",
    "    # Close output stream.\n",
    "    OutputFile.close()"
   ]
  },
  {
   "cell_type": "code",
   "execution_count": null,
   "metadata": {},
   "outputs": [],
   "source": []
  }
 ],
 "metadata": {
  "kernelspec": {
   "display_name": "Python 3",
   "language": "python",
   "name": "python3"
  },
  "language_info": {
   "codemirror_mode": {
    "name": "ipython",
    "version": 3
   },
   "file_extension": ".py",
   "mimetype": "text/x-python",
   "name": "python",
   "nbconvert_exporter": "python",
   "pygments_lexer": "ipython3",
   "version": "3.7.4"
  },
  "varInspector": {
   "cols": {
    "lenName": 16,
    "lenType": 16,
    "lenVar": 40
   },
   "kernels_config": {
    "python": {
     "delete_cmd_postfix": "",
     "delete_cmd_prefix": "del ",
     "library": "var_list.py",
     "varRefreshCmd": "print(var_dic_list())"
    },
    "r": {
     "delete_cmd_postfix": ") ",
     "delete_cmd_prefix": "rm(",
     "library": "var_list.r",
     "varRefreshCmd": "cat(var_dic_list()) "
    }
   },
   "types_to_exclude": [
    "module",
    "function",
    "builtin_function_or_method",
    "instance",
    "_Feature"
   ],
   "window_display": false
  }
 },
 "nbformat": 4,
 "nbformat_minor": 2
}
