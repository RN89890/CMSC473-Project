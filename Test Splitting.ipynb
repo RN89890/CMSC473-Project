{
 "cells": [
  {
   "cell_type": "code",
   "execution_count": 56,
   "metadata": {},
   "outputs": [],
   "source": [
    "import pandas as pd\n",
    "import numpy as np\n",
    "import nltk\n",
    "\n",
    "import re\n",
    "import math\n",
    "import statistics"
   ]
  },
  {
   "cell_type": "code",
   "execution_count": 57,
   "metadata": {},
   "outputs": [],
   "source": [
    "df = pd.read_csv('combined_output_Nov22.csv')[['artist', 'song', 'majority_genre', 'lyrics']]"
   ]
  },
  {
   "cell_type": "code",
   "execution_count": 58,
   "metadata": {},
   "outputs": [
    {
     "output_type": "execute_result",
     "data": {
      "text/plain": [
       "Rock          539\n",
       "Pop           160\n",
       "Metal          88\n",
       "Electronic     66\n",
       "RnB            52\n",
       "Rap            52\n",
       "Country        48\n",
       "Jazz           35\n",
       "Punk           30\n",
       "Folk           29\n",
       "Latin          18\n",
       "Reggae         18\n",
       "Blues          15\n",
       "World           5\n",
       "New Age         3\n",
       "Name: majority_genre, dtype: int64"
      ]
     },
     "metadata": {},
     "execution_count": 58
    }
   ],
   "source": [
    "df['majority_genre'].value_counts()"
   ]
  },
  {
   "cell_type": "code",
   "execution_count": 59,
   "metadata": {},
   "outputs": [
    {
     "output_type": "execute_result",
     "data": {
      "text/plain": [
       "Rock          539\n",
       "Pop           160\n",
       "Metal          88\n",
       "Electronic     66\n",
       "RnB            52\n",
       "Rap            52\n",
       "Country        48\n",
       "Jazz           35\n",
       "Punk           30\n",
       "Name: majority_genre, dtype: int64"
      ]
     },
     "metadata": {},
     "execution_count": 59
    }
   ],
   "source": [
    "df = df[~df['majority_genre'].isin(['New Age', 'World', 'Blues', 'Latin', 'Reggae', 'Folk'])]\n",
    "df['majority_genre'].value_counts()"
   ]
  },
  {
   "cell_type": "code",
   "execution_count": 60,
   "metadata": {},
   "outputs": [
    {
     "output_type": "execute_result",
     "data": {
      "text/plain": [
       "Rock          269\n",
       "Pop            80\n",
       "Metal          44\n",
       "Electronic     33\n",
       "RnB            26\n",
       "Rap            26\n",
       "Country        24\n",
       "Jazz           18\n",
       "Punk           15\n",
       "Name: majority_genre, dtype: int64"
      ]
     },
     "metadata": {},
     "execution_count": 60
    }
   ],
   "source": [
    "from sklearn.model_selection import train_test_split\n",
    "\n",
    "X_train, X_test, y_train, y_test = train_test_split(df['lyrics'], df['majority_genre'], stratify=df['majority_genre'], test_size=.5, random_state=1)\n",
    "X_test, X_val, y_test, y_val = train_test_split(X_test, y_test, stratify=y_test, test_size=.5, random_state=1)\n",
    "y_train.value_counts()"
   ]
  },
  {
   "cell_type": "code",
   "execution_count": 61,
   "metadata": {},
   "outputs": [],
   "source": [
    "train = pd.concat({'lyrics': X_train, 'genre': y_train}, axis=1)\n",
    "test = pd.concat({'lyrics': X_test, 'genre': y_test}, axis=1)\n",
    "val = pd.concat({'lyrics': X_val, 'genre': y_val}, axis=1)"
   ]
  },
  {
   "cell_type": "code",
   "execution_count": 62,
   "metadata": {},
   "outputs": [
    {
     "output_type": "execute_result",
     "data": {
      "text/plain": [
       "Rock          269\n",
       "Pop            80\n",
       "Metal          44\n",
       "Electronic     33\n",
       "RnB            26\n",
       "Rap            26\n",
       "Country        24\n",
       "Jazz           18\n",
       "Punk           15\n",
       "Name: genre, dtype: int64"
      ]
     },
     "metadata": {},
     "execution_count": 62
    }
   ],
   "source": [
    "train.genre.value_counts()"
   ]
  },
  {
   "cell_type": "code",
   "execution_count": 63,
   "metadata": {},
   "outputs": [
    {
     "output_type": "execute_result",
     "data": {
      "text/plain": [
       "                                                 lyrics       genre\n",
       "994   La la la la la lee la la la\\nFine night tonigh...  Electronic\n",
       "145   Mary Lou, Mary LouI can't go on living without...  Electronic\n",
       "59    OI oi oi poloi, bags of noise, wake up, shake ...         Rap\n",
       "803   You won't think twice when you realize\\nSee wh...        Punk\n",
       "933   You're comin' tonight\\r\\nTo my home town\\r\\nI'...         Pop\n",
       "...                                                 ...         ...\n",
       "612   Lubna & Tricky:\\r\\nI realize, there's no compr...  Electronic\n",
       "658   Radio killa killa, you know how we do\\r\\nAh yo...         Rap\n",
       "1143  [Eminem]\\r\\nWhatever..\\r\\nDre, just let it run...         Rap\n",
       "787   That innocent look in her green eyes\\nSparkle ...     Country\n",
       "386   You can only try and dare to live...\\r\\ndo you...  Electronic\n",
       "\n",
       "[2421 rows x 2 columns]"
      ],
      "text/html": "<div>\n<style scoped>\n    .dataframe tbody tr th:only-of-type {\n        vertical-align: middle;\n    }\n\n    .dataframe tbody tr th {\n        vertical-align: top;\n    }\n\n    .dataframe thead th {\n        text-align: right;\n    }\n</style>\n<table border=\"1\" class=\"dataframe\">\n  <thead>\n    <tr style=\"text-align: right;\">\n      <th></th>\n      <th>lyrics</th>\n      <th>genre</th>\n    </tr>\n  </thead>\n  <tbody>\n    <tr>\n      <th>994</th>\n      <td>La la la la la lee la la la\\nFine night tonigh...</td>\n      <td>Electronic</td>\n    </tr>\n    <tr>\n      <th>145</th>\n      <td>Mary Lou, Mary LouI can't go on living without...</td>\n      <td>Electronic</td>\n    </tr>\n    <tr>\n      <th>59</th>\n      <td>OI oi oi poloi, bags of noise, wake up, shake ...</td>\n      <td>Rap</td>\n    </tr>\n    <tr>\n      <th>803</th>\n      <td>You won't think twice when you realize\\nSee wh...</td>\n      <td>Punk</td>\n    </tr>\n    <tr>\n      <th>933</th>\n      <td>You're comin' tonight\\r\\nTo my home town\\r\\nI'...</td>\n      <td>Pop</td>\n    </tr>\n    <tr>\n      <th>...</th>\n      <td>...</td>\n      <td>...</td>\n    </tr>\n    <tr>\n      <th>612</th>\n      <td>Lubna &amp; Tricky:\\r\\nI realize, there's no compr...</td>\n      <td>Electronic</td>\n    </tr>\n    <tr>\n      <th>658</th>\n      <td>Radio killa killa, you know how we do\\r\\nAh yo...</td>\n      <td>Rap</td>\n    </tr>\n    <tr>\n      <th>1143</th>\n      <td>[Eminem]\\r\\nWhatever..\\r\\nDre, just let it run...</td>\n      <td>Rap</td>\n    </tr>\n    <tr>\n      <th>787</th>\n      <td>That innocent look in her green eyes\\nSparkle ...</td>\n      <td>Country</td>\n    </tr>\n    <tr>\n      <th>386</th>\n      <td>You can only try and dare to live...\\r\\ndo you...</td>\n      <td>Electronic</td>\n    </tr>\n  </tbody>\n</table>\n<p>2421 rows × 2 columns</p>\n</div>"
     },
     "metadata": {},
     "execution_count": 63
    }
   ],
   "source": [
    "from sklearn.utils import resample\n",
    "\n",
    "train_sampled = pd.DataFrame(columns=['lyrics', 'genre'])\n",
    "target_size = (train[train.genre=='Rock']).shape[0]\n",
    "train_sampled = pd.concat([train_sampled, train[train.genre=='Rock']])\n",
    "for genre in ['Pop', 'Metal', 'Electronic', 'RnB', 'Rap', 'Country', 'Jazz', 'Punk']:\n",
    "    genre_sampled = resample(train[train.genre==genre], replace=True, n_samples=target_size, random_state=42)\n",
    "    train_sampled = pd.concat([train_sampled, genre_sampled])\n",
    "\n",
    "train_sampled = train_sampled.sample(frac=1)\n",
    "train_sampled"
   ]
  },
  {
   "cell_type": "code",
   "execution_count": 64,
   "metadata": {},
   "outputs": [
    {
     "output_type": "execute_result",
     "data": {
      "text/plain": [
       "['baby baby baby ohh']"
      ]
     },
     "metadata": {},
     "execution_count": 64
    }
   ],
   "source": [
    "from textattack.augmentation import EmbeddingAugmenter\n",
    "aug = EmbeddingAugmenter()\n",
    "aug.augment('baby baby baby oooh')\n",
    "\n",
    "from textaugment import Wordnet\n",
    "t = Wordnet()"
   ]
  },
  {
   "cell_type": "code",
   "execution_count": 65,
   "metadata": {},
   "outputs": [],
   "source": [
    "import mapply\n",
    "mapply.init(\n",
    "    n_workers=-1,\n",
    "    chunk_size=100,\n",
    "    max_chunks_per_worker=10,\n",
    "    progressbar=True\n",
    ")"
   ]
  },
  {
   "cell_type": "code",
   "execution_count": 81,
   "metadata": {},
   "outputs": [
    {
     "output_type": "execute_result",
     "data": {
      "text/plain": [
       "                                                 lyrics    genre\n",
       "553   how here's a little story - i've begin to tell...     Rock\n",
       "852   notice me lead my hand why represent we strang...      Pop\n",
       "830   j. ingram/t. snider i insure you reckon and i ...  Country\n",
       "1000  (michael mcdonald) who would sell their soul f...  Country\n",
       "555   there's a place in your heart and i know that ...      RnB\n",
       "...                                                 ...      ...\n",
       "24    Well if you don't like it\\r\\nGo ahead, find yo...     Rock\n",
       "687   If you've been hiding from love\\r\\nIf you've b...      Pop\n",
       "26    The more I see you, the more I want you\\nSomeh...     Jazz\n",
       "641   yesterday i witness the sun shinin', and the l...     Jazz\n",
       "476   intro: uh defjam uh ruffryders (the snake the ...      Rap\n",
       "\n",
       "[2700 rows x 2 columns]"
      ],
      "text/html": "<div>\n<style scoped>\n    .dataframe tbody tr th:only-of-type {\n        vertical-align: middle;\n    }\n\n    .dataframe tbody tr th {\n        vertical-align: top;\n    }\n\n    .dataframe thead th {\n        text-align: right;\n    }\n</style>\n<table border=\"1\" class=\"dataframe\">\n  <thead>\n    <tr style=\"text-align: right;\">\n      <th></th>\n      <th>lyrics</th>\n      <th>genre</th>\n    </tr>\n  </thead>\n  <tbody>\n    <tr>\n      <th>553</th>\n      <td>how here's a little story - i've begin to tell...</td>\n      <td>Rock</td>\n    </tr>\n    <tr>\n      <th>852</th>\n      <td>notice me lead my hand why represent we strang...</td>\n      <td>Pop</td>\n    </tr>\n    <tr>\n      <th>830</th>\n      <td>j. ingram/t. snider i insure you reckon and i ...</td>\n      <td>Country</td>\n    </tr>\n    <tr>\n      <th>1000</th>\n      <td>(michael mcdonald) who would sell their soul f...</td>\n      <td>Country</td>\n    </tr>\n    <tr>\n      <th>555</th>\n      <td>there's a place in your heart and i know that ...</td>\n      <td>RnB</td>\n    </tr>\n    <tr>\n      <th>...</th>\n      <td>...</td>\n      <td>...</td>\n    </tr>\n    <tr>\n      <th>24</th>\n      <td>Well if you don't like it\\r\\nGo ahead, find yo...</td>\n      <td>Rock</td>\n    </tr>\n    <tr>\n      <th>687</th>\n      <td>If you've been hiding from love\\r\\nIf you've b...</td>\n      <td>Pop</td>\n    </tr>\n    <tr>\n      <th>26</th>\n      <td>The more I see you, the more I want you\\nSomeh...</td>\n      <td>Jazz</td>\n    </tr>\n    <tr>\n      <th>641</th>\n      <td>yesterday i witness the sun shinin', and the l...</td>\n      <td>Jazz</td>\n    </tr>\n    <tr>\n      <th>476</th>\n      <td>intro: uh defjam uh ruffryders (the snake the ...</td>\n      <td>Rap</td>\n    </tr>\n  </tbody>\n</table>\n<p>2700 rows × 2 columns</p>\n</div>"
     },
     "metadata": {},
     "execution_count": 81
    }
   ],
   "source": [
    "train_augmented = pd.DataFrame(columns=['lyrics', 'genre'])\n",
    "target_size = 300\n",
    "\n",
    "for genre in ['Rock', 'Pop', 'Metal', 'Electronic', 'RnB', 'Rap', 'Country', 'Jazz', 'Punk']:\n",
    "    gold_sample = train[train.genre==genre]\n",
    "    sample_size = target_size - gold_sample.shape[0]\n",
    "    augmented_sample = resample(gold_sample, n_samples=sample_size, random_state=43)\n",
    "    # augmented_sample = augmented_sample.mapply(lambda x: )\n",
    "    augmented_sample['lyrics'] = augmented_sample.lyrics.apply(lambda x: t.augment(x))\n",
    "    train_augmented = pd.concat([train_augmented, gold_sample, augmented_sample])\n",
    "\n",
    "train_augmented = train_augmented.sample(frac=1)\n",
    "train_augmented"
   ]
  },
  {
   "cell_type": "code",
   "execution_count": 82,
   "metadata": {},
   "outputs": [],
   "source": [
    "train.to_csv('genre_train.csv', index=False)\n",
    "test.to_csv('genre_test.csv', index=False)\n",
    "val.to_csv('genre_val.csv', index=False)\n",
    "train.to_csv('genre_train.csv', index=False)\n",
    "train_sampled.to_csv('genre_train_sampled.csv', index=False)\n",
    "train_augmented.to_csv('genre_train_augmented.csv', index=False)"
   ]
  },
  {
   "cell_type": "code",
   "execution_count": null,
   "metadata": {},
   "outputs": [],
   "source": []
  },
  {
   "cell_type": "code",
   "execution_count": 157,
   "metadata": {
    "tags": []
   },
   "outputs": [
    {
     "output_type": "execute_result",
     "data": {
      "text/plain": [
       "          genre                                             lyrics  \\\n",
       "0         Metal  \"Don`t care. It won`t change anything.\\nPerhap...   \n",
       "1          Rock  Come on, let's waste another thousand years\\nS...   \n",
       "2           Pop  First Floor (Uh, Oh) \\nRoom Sixteen (Uh, Oh) \\...   \n",
       "3          Rock  Revenge, smarter than the radio,\\nBetter than ...   \n",
       "4    Electronic  Monochromatic reasoning\\nA divide and conquer ...   \n",
       "..          ...                                                ...   \n",
       "530        Rock  choose from any number of magazines\\nwho do yo...   \n",
       "531        Rock  Well, the look on the cake\\nIt ain't always th...   \n",
       "532       Metal  The eyes of the patriot fixed through the scop...   \n",
       "533         Pop  I turn back time and now I'm back again\\nThe w...   \n",
       "534        Rock  It's the cruelest joke to play\\nI'm so high, I...   \n",
       "\n",
       "     avg_stanza_len  avg_line_len  \n",
       "0          5.000000      5.120000  \n",
       "1          7.000000      6.285714  \n",
       "2          4.647059      5.367089  \n",
       "3          4.500000      5.777778  \n",
       "4          3.800000      4.842105  \n",
       "..              ...           ...  \n",
       "530        4.666667      5.321429  \n",
       "531        6.600000      4.757576  \n",
       "532        6.666667      7.150000  \n",
       "533        6.125000      7.000000  \n",
       "534       10.000000      8.000000  \n",
       "\n",
       "[535 rows x 4 columns]"
      ],
      "text/html": "<div>\n<style scoped>\n    .dataframe tbody tr th:only-of-type {\n        vertical-align: middle;\n    }\n\n    .dataframe tbody tr th {\n        vertical-align: top;\n    }\n\n    .dataframe thead th {\n        text-align: right;\n    }\n</style>\n<table border=\"1\" class=\"dataframe\">\n  <thead>\n    <tr style=\"text-align: right;\">\n      <th></th>\n      <th>genre</th>\n      <th>lyrics</th>\n      <th>avg_stanza_len</th>\n      <th>avg_line_len</th>\n    </tr>\n  </thead>\n  <tbody>\n    <tr>\n      <th>0</th>\n      <td>Metal</td>\n      <td>\"Don`t care. It won`t change anything.\\nPerhap...</td>\n      <td>5.000000</td>\n      <td>5.120000</td>\n    </tr>\n    <tr>\n      <th>1</th>\n      <td>Rock</td>\n      <td>Come on, let's waste another thousand years\\nS...</td>\n      <td>7.000000</td>\n      <td>6.285714</td>\n    </tr>\n    <tr>\n      <th>2</th>\n      <td>Pop</td>\n      <td>First Floor (Uh, Oh) \\nRoom Sixteen (Uh, Oh) \\...</td>\n      <td>4.647059</td>\n      <td>5.367089</td>\n    </tr>\n    <tr>\n      <th>3</th>\n      <td>Rock</td>\n      <td>Revenge, smarter than the radio,\\nBetter than ...</td>\n      <td>4.500000</td>\n      <td>5.777778</td>\n    </tr>\n    <tr>\n      <th>4</th>\n      <td>Electronic</td>\n      <td>Monochromatic reasoning\\nA divide and conquer ...</td>\n      <td>3.800000</td>\n      <td>4.842105</td>\n    </tr>\n    <tr>\n      <th>...</th>\n      <td>...</td>\n      <td>...</td>\n      <td>...</td>\n      <td>...</td>\n    </tr>\n    <tr>\n      <th>530</th>\n      <td>Rock</td>\n      <td>choose from any number of magazines\\nwho do yo...</td>\n      <td>4.666667</td>\n      <td>5.321429</td>\n    </tr>\n    <tr>\n      <th>531</th>\n      <td>Rock</td>\n      <td>Well, the look on the cake\\nIt ain't always th...</td>\n      <td>6.600000</td>\n      <td>4.757576</td>\n    </tr>\n    <tr>\n      <th>532</th>\n      <td>Metal</td>\n      <td>The eyes of the patriot fixed through the scop...</td>\n      <td>6.666667</td>\n      <td>7.150000</td>\n    </tr>\n    <tr>\n      <th>533</th>\n      <td>Pop</td>\n      <td>I turn back time and now I'm back again\\nThe w...</td>\n      <td>6.125000</td>\n      <td>7.000000</td>\n    </tr>\n    <tr>\n      <th>534</th>\n      <td>Rock</td>\n      <td>It's the cruelest joke to play\\nI'm so high, I...</td>\n      <td>10.000000</td>\n      <td>8.000000</td>\n    </tr>\n  </tbody>\n</table>\n<p>535 rows × 4 columns</p>\n</div>"
     },
     "metadata": {},
     "execution_count": 157
    }
   ],
   "source": [
    "def normalize_stanzas(row):\n",
    "    markers = [len(match) for match in re.findall(r'\\r?\\n+', row.lyrics)]\n",
    "    stanza_mean = statistics.mean(markers) if len(markers) > 0 else 1\n",
    "    norm_lyrics = re.sub('\\r?\\n{1,' + str(math.floor(stanza_mean)) + '}', '\\n', row.lyrics)\n",
    "    norm_lyrics = re.sub('\\r?\\n{' + str(math.floor(stanza_mean) + 1) + ', }', '\\n\\n', norm_lyrics)\n",
    "\n",
    "    stanza_lens = []\n",
    "    line_lens = []\n",
    "    for stanza in norm_lyrics.split('\\n\\n'):\n",
    "        lines = stanza.split('\\n')\n",
    "        stanza_lens.append(len(lines))\n",
    "        for line in lines:\n",
    "            line_lens.append(len(line.split()))\n",
    "    return norm_lyrics, statistics.mean(stanza_lens), statistics.mean(line_lens)\n",
    "\n",
    "normalize_stanzas(train.iloc[23])\n",
    "\n",
    "def stanzitize(data):\n",
    "    genres, lyrics, avg_stanza_lens, avg_line_lens = [], [], [], []\n",
    "    for _, row in data.iterrows():\n",
    "        lyric, avg_stanza_len, avg_line_len = normalize_stanzas(row)\n",
    "        genres.append(row.genre)\n",
    "        lyrics.append(lyric)\n",
    "        avg_stanza_lens.append(avg_stanza_len)\n",
    "        avg_line_lens.append(avg_line_len)\n",
    "    return pd.DataFrame({\n",
    "        'genre': genres,\n",
    "        'lyrics': lyrics,\n",
    "        'avg_stanza_len': avg_stanza_lens,\n",
    "        'avg_line_len': avg_line_lens\n",
    "    })\n",
    "\n",
    "stanzitize(train)"
   ]
  },
  {
   "cell_type": "code",
   "execution_count": 158,
   "metadata": {},
   "outputs": [],
   "source": [
    "train_s = stanzitize(train)\n",
    "test_s = stanzitize(test)\n",
    "val_s = stanzitize(val)\n",
    "train_sampled_s = stanzitize(train_sampled)\n",
    "train_augmented_s = stanzitize(train_augmented)\n",
    "\n",
    "train_s.to_csv('genre_train_s.csv', index=False)\n",
    "test_s.to_csv('genre_test_s.csv', index=False)\n",
    "val_s.to_csv('genre_val_s.csv', index=False)\n",
    "train_sampled_s.to_csv('genre_train_sampled_s.csv', index=False)\n",
    "train_augmented_s.to_csv('genre_train_augmented_s.csv', index=False)"
   ]
  }
 ],
 "metadata": {
  "kernelspec": {
   "display_name": "Python 3",
   "language": "python",
   "name": "python3"
  }
 },
 "nbformat": 4,
 "nbformat_minor": 2
}